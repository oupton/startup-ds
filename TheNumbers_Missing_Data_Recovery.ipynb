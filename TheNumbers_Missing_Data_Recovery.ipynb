{
 "cells": [
  {
   "cell_type": "code",
   "execution_count": 3,
   "metadata": {
    "collapsed": true
   },
   "outputs": [],
   "source": [
    "import pandas as pd\n",
    "import numpy as np\n",
    "import os\n",
    "import ast\n",
    "#from joblib import Parallel, delayed\n",
    "import matplotlib\n",
    "import matplotlib.pyplot as plt\n",
    "%matplotlib inline\n",
    "import ast"
   ]
  },
  {
   "cell_type": "code",
   "execution_count": 63,
   "metadata": {
    "collapsed": true
   },
   "outputs": [],
   "source": [
    "# Recovering misssing financial data from data scraped from the-numbers.com"
   ]
  },
  {
   "cell_type": "code",
   "execution_count": 4,
   "metadata": {
    "collapsed": true
   },
   "outputs": [],
   "source": [
    "missing = pd.read_csv('data/missing_financial_data.csv')"
   ]
  },
  {
   "cell_type": "code",
   "execution_count": 5,
   "metadata": {},
   "outputs": [
    {
     "name": "stderr",
     "output_type": "stream",
     "text": [
      "/Users/shahidhn/anaconda/envs/py27/lib/python2.7/site-packages/IPython/core/interactiveshell.py:2718: DtypeWarning: Columns (10) have mixed types. Specify dtype option on import or set low_memory=False.\n",
      "  interactivity=interactivity, compiler=compiler, result=result)\n"
     ]
    }
   ],
   "source": [
    "all_movies = pd.read_csv('data/movies_metadata.csv')"
   ]
  },
  {
   "cell_type": "code",
   "execution_count": 6,
   "metadata": {
    "collapsed": true
   },
   "outputs": [],
   "source": [
    "the_numbers = pd.read_csv('data/the_numbers_data.csv')"
   ]
  },
  {
   "cell_type": "code",
   "execution_count": 9,
   "metadata": {
    "collapsed": true
   },
   "outputs": [],
   "source": [
    "all_ids = all_movies['imdb_id'].tolist()\n",
    "missing_names = [all_movies['title'][all_ids.index(id)] for id in missing['recovered_ids']]\n",
    "missing['title'] = missing_names"
   ]
  },
  {
   "cell_type": "code",
   "execution_count": 56,
   "metadata": {},
   "outputs": [],
   "source": [
    "the_numbers_names = the_numbers['name'].tolist()"
   ]
  },
  {
   "cell_type": "code",
   "execution_count": 60,
   "metadata": {},
   "outputs": [
    {
     "name": "stderr",
     "output_type": "stream",
     "text": [
      "/Users/shahidhn/anaconda/envs/py27/lib/python2.7/site-packages/ipykernel_launcher.py:20: SettingWithCopyWarning: \n",
      "A value is trying to be set on a copy of a slice from a DataFrame\n",
      "\n",
      "See the caveats in the documentation: http://pandas.pydata.org/pandas-docs/stable/indexing.html#indexing-view-versus-copy\n",
      "/Users/shahidhn/anaconda/envs/py27/lib/python2.7/site-packages/ipykernel_launcher.py:21: SettingWithCopyWarning: \n",
      "A value is trying to be set on a copy of a slice from a DataFrame\n",
      "\n",
      "See the caveats in the documentation: http://pandas.pydata.org/pandas-docs/stable/indexing.html#indexing-view-versus-copy\n"
     ]
    }
   ],
   "source": [
    "to_add = pd.DataFrame(columns=missing.dtypes.index.tolist())\n",
    "\n",
    "# Name, budget, revenue (worldwide gross), imdb_id\n",
    "for title in missing_names:\n",
    "    if title in the_numbers_names:\n",
    "        numbers_i = the_numbers_names.index(title)\n",
    "        budget = the_numbers.iloc[numbers_i]['budget']\n",
    "        revenue = the_numbers.iloc[numbers_i]['worldwide']\n",
    "        if budget > 0 and revenue > 0:\n",
    "            '''\n",
    "            temp = []\n",
    "\n",
    "            temp.append(the_numbers.iloc[numbers_i]['name'])\n",
    "            temp.append(the_numbers.iloc[numbers_i]['budget'])\n",
    "            temp.append(the_numbers.iloc[numbers_i]['worldwide'])\n",
    "            '''\n",
    "\n",
    "            missing_i = missing_names.index(title)\n",
    "            add_row = missing.iloc[missing_i]\n",
    "            add_row['budget'] = budget\n",
    "            add_row['revenue'] = revenue\n",
    "            to_add = to_add.append(add_row)"
   ]
  },
  {
   "cell_type": "code",
   "execution_count": 62,
   "metadata": {},
   "outputs": [],
   "source": [
    "to_add.to_csv(path_or_buf='data/the_numbers_recovered.csv', mode='w+')"
   ]
  }
 ],
 "metadata": {
  "kernelspec": {
   "display_name": "Python 2",
   "language": "python",
   "name": "python2"
  },
  "language_info": {
   "codemirror_mode": {
    "name": "ipython",
    "version": 2
   },
   "file_extension": ".py",
   "mimetype": "text/x-python",
   "name": "python",
   "nbconvert_exporter": "python",
   "pygments_lexer": "ipython2",
   "version": "2.7.14"
  }
 },
 "nbformat": 4,
 "nbformat_minor": 2
}
